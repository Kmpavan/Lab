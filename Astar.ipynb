{
 "cells": [
  {
   "cell_type": "code",
   "execution_count": 7,
   "id": "0408dbc7",
   "metadata": {
    "id": "0408dbc7"
   },
   "outputs": [],
   "source": [
    "class Node:\n",
    "    def __init__(self, value,coord):\n",
    "        self.value = value\n",
    "        self.coord = coord\n",
    "        self.g=0; self.h=0 #initialization\n",
    "        self.parent=None\n",
    "    \n",
    "    def __str__(self):\n",
    "        s = f'{self.coord} f= {self.g+self.h:0.2f} \\\n",
    "        g={self.g:0.2f}, h= {self.h:0.2f}' \n",
    "        return s\n",
    "    \n",
    "    def move_cost(self, other):\n",
    "        return 1 \n"
   ]
  },
  {
   "cell_type": "code",
   "execution_count": 8,
   "id": "6cb14298",
   "metadata": {
    "id": "6cb14298"
   },
   "outputs": [],
   "source": [
    "def children(current_node,grid):\n",
    "    x,y = current_node.coord\n",
    "    links = [(x-1, y),(x,y-1),(x,y+1),(x+1,y)]\n",
    "            \n",
    "    \n",
    "    valid_links=[link for row in grid for link in row if link.value!=0]\n",
    "    valid_children = [link for link in valid_links if link.coord in links]\n",
    "        \n",
    "    return valid_children"
   ]
  },
  {
   "cell_type": "code",
   "execution_count": 9,
   "id": "e7e11a1c",
   "metadata": {
    "id": "e7e11a1c"
   },
   "outputs": [],
   "source": [
    "\n",
    "def manhattan(node, goal):\n",
    "    #manhattan distance \n",
    "    xN,yN = node.coord\n",
    "    xG,yG = goal.coord\n",
    "    h = abs(xN-xG) + abs(yN-yG)\n",
    "    return h\n",
    "\n",
    "\n",
    "def diagonal(node, goal):\n",
    "    xN,yN = node.coord\n",
    "    xG,yG  = goal.coord\n",
    "    dx = abs(xN - xG)\n",
    "    dy = abs(yN- yG)\n",
    "    return (dx + dy) - min(dx, dy)"
   ]
  },
  {
   "cell_type": "code",
   "execution_count": 13,
   "id": "0106d3f9",
   "metadata": {
    "id": "0106d3f9"
   },
   "outputs": [],
   "source": [
    "def aStar(start, goal, grid):\n",
    "    OPEN = list(); CLOSED=list()\n",
    "    current = start\n",
    "    OPEN.append(current)\n",
    "    i=0\n",
    "    while OPEN:\n",
    "        print('Iteration ',i)\n",
    "        i+=1 \n",
    "        current = min(OPEN, key=lambda o:o.g + o.h)       \n",
    "        print('Current Node', current)\n",
    " \n",
    "        if current == goal:\n",
    "            path = []\n",
    "            while current.parent:\n",
    "                path.append(current)\n",
    "                current = current.parent\n",
    "            path.append(current)\n",
    "            return path[::-1] \n",
    "        \n",
    "        OPEN.remove(current); CLOSED.append(current)\n",
    "        \n",
    "        for node in children(current,grid):\n",
    "           \n",
    "            if node in CLOSED:\n",
    "                new_cost = current.g + current.move_cost(node)\n",
    "                if new_cost<=node.g: \n",
    "                    OPEN.append(node);CLOSED.remove(node)\n",
    "\n",
    "     \n",
    "            elif node in OPEN:\n",
    "                \n",
    "                new_cost = current.g + current.move_cost(node)\n",
    "                if new_cost<=node.g:\n",
    "                  \n",
    "                    node.g = new_cost\n",
    "                    node.parent = current\n",
    "            else:\n",
    "                   \n",
    "                node.g = current.g + current.move_cost(node)\n",
    "                node.h = manhattan(node, goal) \n",
    "                node.parent = current\n",
    "                OPEN.append(node)\n",
    " \n",
    "    return None\n"
   ]
  },
  {
   "cell_type": "code",
   "execution_count": 14,
   "id": "10208cb6",
   "metadata": {
    "id": "10208cb6"
   },
   "outputs": [],
   "source": [
    "#use case 1\n",
    "grid = [[1,1,1,1], \n",
    "        [1,1,1,1],\n",
    "        [1,1,1,1],\n",
    "        [1,1,0,0],\n",
    "        [1,1,0,1]]\n",
    "\n",
    "for x in range(len(grid)):\n",
    "    for y in range(len(grid[x])):\n",
    "        grid[x][y] = Node(grid[x][y],(x,y))\n",
    "\n",
    "start = grid[4][0]\n",
    "goal = grid [0][3]"
   ]
  },
  {
   "cell_type": "code",
   "execution_count": 15,
   "id": "729ed542-ba96-4093-9fe8-616672a80e70",
   "metadata": {},
   "outputs": [
    {
     "name": "stdout",
     "output_type": "stream",
     "text": [
      "Iteration  0\n",
      "Current Node (4, 0) f= 0.00         g=0.00, h= 0.00\n",
      "Iteration  1\n",
      "Current Node (3, 0) f= 7.00         g=1.00, h= 6.00\n",
      "Iteration  2\n",
      "Current Node (4, 1) f= 7.00         g=1.00, h= 6.00\n",
      "Iteration  3\n",
      "Current Node (2, 0) f= 7.00         g=2.00, h= 5.00\n",
      "Iteration  4\n",
      "Current Node (3, 1) f= 7.00         g=2.00, h= 5.00\n",
      "Iteration  5\n",
      "Current Node (1, 0) f= 7.00         g=3.00, h= 4.00\n",
      "Iteration  6\n",
      "Current Node (2, 1) f= 7.00         g=3.00, h= 4.00\n",
      "Iteration  7\n",
      "Current Node (0, 0) f= 7.00         g=4.00, h= 3.00\n",
      "Iteration  8\n",
      "Current Node (1, 1) f= 7.00         g=4.00, h= 3.00\n",
      "Iteration  9\n",
      "Current Node (2, 2) f= 7.00         g=4.00, h= 3.00\n",
      "Iteration  10\n",
      "Current Node (0, 1) f= 7.00         g=5.00, h= 2.00\n",
      "Iteration  11\n",
      "Current Node (1, 2) f= 7.00         g=5.00, h= 2.00\n",
      "Iteration  12\n",
      "Current Node (2, 3) f= 7.00         g=5.00, h= 2.00\n",
      "Iteration  13\n",
      "Current Node (0, 2) f= 7.00         g=6.00, h= 1.00\n",
      "Iteration  14\n",
      "Current Node (1, 3) f= 7.00         g=6.00, h= 1.00\n",
      "Iteration  15\n",
      "Current Node (0, 3) f= 7.00         g=7.00, h= 0.00\n",
      "** Path ** \n",
      "(4, 0) (4, 1) (3, 1) (2, 1) (2, 2) (2, 3) (1, 3) (0, 3) "
     ]
    }
   ],
   "source": [
    "path = aStar(start,goal ,grid)\n",
    "if path:\n",
    "    print(\"** Path ** \")\n",
    "    for p in path:\n",
    "        print(p.coord, end=\" \")\n",
    "else:\n",
    "    print(\"No path found\")\n"
   ]
  },
  {
   "cell_type": "code",
   "execution_count": null,
   "id": "178d91e8-eb95-47c5-b5c4-95df0d8e1d35",
   "metadata": {},
   "outputs": [],
   "source": []
  }
 ],
 "metadata": {
  "colab": {
   "provenance": []
  },
  "kernelspec": {
   "display_name": "Python 3 (ipykernel)",
   "language": "python",
   "name": "python3"
  },
  "language_info": {
   "codemirror_mode": {
    "name": "ipython",
    "version": 3
   },
   "file_extension": ".py",
   "mimetype": "text/x-python",
   "name": "python",
   "nbconvert_exporter": "python",
   "pygments_lexer": "ipython3",
   "version": "3.9.13"
  }
 },
 "nbformat": 4,
 "nbformat_minor": 5
}
